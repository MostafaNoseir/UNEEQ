{
 "cells": [
  {
   "cell_type": "raw",
   "id": "551d5ac4-80a0-490c-9a9c-45f4f7e922d9",
   "metadata": {},
   "source": [
    "Mostafa Mahmoud Mohamed Noseir"
   ]
  },
  {
   "cell_type": "markdown",
   "id": "bfe2804e-0d9b-4b5e-9371-deaa8309ba07",
   "metadata": {},
   "source": [
    "# Recommendation System"
   ]
  },
  {
   "cell_type": "markdown",
   "id": "7956a89f-3b67-4e23-ae68-7ddba32f6d1b",
   "metadata": {},
   "source": [
    "## About the Dataset\n",
    "\n",
    "The **MovieLens 20M dataset** is a benchmark dataset for building recommendation systems. It consists of over **20 million user ratings** for movies, collected from the MovieLens website. The dataset includes movie information, user ratings, tags, and tag relevance scores, making it suitable for both collaborative and content-based recommendation systems.\n",
    "\n",
    "**Files Included:**\n",
    "- `movie.csv`: Movie titles and genres.\n",
    "- `rating.csv`: Ratings given by users to movies.\n",
    "- `tag.csv`: User-generated tags for specific movies.\n",
    "- `genome_tags.csv`: A controlled set of tag labels.\n",
    "- `genome_scores.csv`: Relevance of tags for each movie.\n",
    "- `link.csv`: Mapping of MovieLens IDs to IMDb and TMDb.\n",
    "\n",
    "---\n",
    "\n",
    "## Objective\n",
    "\n",
    "The goal of this project is to develop a professional **Movie Recommendation System**. The system will use user rating patterns to suggest movies users might enjoy.\n",
    "\n",
    "This project demonstrates how machine learning can personalize content for users and improve user experience in media platforms.\n"
   ]
  },
  {
   "cell_type": "markdown",
   "id": "f27d6f9a-92e9-4c53-b95d-b85917be7ac1",
   "metadata": {},
   "source": [
    "### Import libraries"
   ]
  },
  {
   "cell_type": "code",
   "execution_count": 1,
   "id": "f5095f13-b474-43cf-853d-8c74b49c82d7",
   "metadata": {},
   "outputs": [],
   "source": [
    "import pandas as pd\n",
    "import numpy as np\n",
    "import matplotlib.pyplot as plt\n",
    "import seaborn as sns"
   ]
  },
  {
   "cell_type": "markdown",
   "id": "9fe97128-e126-4b9a-b89b-f311277fc9fe",
   "metadata": {},
   "source": [
    "## Data Description"
   ]
  },
  {
   "cell_type": "code",
   "execution_count": 2,
   "id": "0a7be737-228a-4ab7-bf54-ebf3166d1be3",
   "metadata": {},
   "outputs": [],
   "source": [
    "ratings = pd.read_csv('rating.csv')\n",
    "movies = pd.read_csv('movie.csv')\n",
    "tags = pd.read_csv('tag.csv')\n",
    "genome_tags = pd.read_csv('genome_tags.csv')\n",
    "genome_scores = pd.read_csv('genome_scores.csv')\n",
    "links = pd.read_csv('link.csv')"
   ]
  },
  {
   "cell_type": "code",
   "execution_count": 3,
   "id": "ed0c84cc-b999-4d3e-893a-60e78982a08e",
   "metadata": {},
   "outputs": [
    {
     "name": "stdout",
     "output_type": "stream",
     "text": [
      "Ratings:\n",
      "   userId  movieId  rating            timestamp\n",
      "0       1        2     3.5  2005-04-02 23:53:47\n",
      "1       1       29     3.5  2005-04-02 23:31:16\n",
      "2       1       32     3.5  2005-04-02 23:33:39\n",
      "3       1       47     3.5  2005-04-02 23:32:07\n",
      "4       1       50     3.5  2005-04-02 23:29:40 \n",
      "\n"
     ]
    }
   ],
   "source": [
    "print(\"Ratings:\")\n",
    "print(ratings.head(), '\\n')"
   ]
  },
  {
   "cell_type": "code",
   "execution_count": 4,
   "id": "fbdb5fde-a843-4df8-ac9e-bc0b9775ebff",
   "metadata": {},
   "outputs": [
    {
     "name": "stdout",
     "output_type": "stream",
     "text": [
      "Movies:\n",
      "   movieId                               title  \\\n",
      "0        1                    Toy Story (1995)   \n",
      "1        2                      Jumanji (1995)   \n",
      "2        3             Grumpier Old Men (1995)   \n",
      "3        4            Waiting to Exhale (1995)   \n",
      "4        5  Father of the Bride Part II (1995)   \n",
      "\n",
      "                                        genres  \n",
      "0  Adventure|Animation|Children|Comedy|Fantasy  \n",
      "1                   Adventure|Children|Fantasy  \n",
      "2                               Comedy|Romance  \n",
      "3                         Comedy|Drama|Romance  \n",
      "4                                       Comedy   \n",
      "\n"
     ]
    }
   ],
   "source": [
    "print(\"Movies:\")\n",
    "print(movies.head(), '\\n')"
   ]
  },
  {
   "cell_type": "code",
   "execution_count": 5,
   "id": "42462e7e-c226-43c0-965e-199bbabcc74c",
   "metadata": {},
   "outputs": [
    {
     "name": "stdout",
     "output_type": "stream",
     "text": [
      "Tags:\n",
      "   userId  movieId            tag            timestamp\n",
      "0      18     4141    Mark Waters  2009-04-24 18:19:40\n",
      "1      65      208      dark hero  2013-05-10 01:41:18\n",
      "2      65      353      dark hero  2013-05-10 01:41:19\n",
      "3      65      521  noir thriller  2013-05-10 01:39:43\n",
      "4      65      592      dark hero  2013-05-10 01:41:18 \n",
      "\n"
     ]
    }
   ],
   "source": [
    "print(\"Tags:\")\n",
    "print(tags.head(), '\\n')"
   ]
  },
  {
   "cell_type": "code",
   "execution_count": 6,
   "id": "79876d2c-bf70-4a19-b379-341e7c3efb52",
   "metadata": {},
   "outputs": [
    {
     "name": "stdout",
     "output_type": "stream",
     "text": [
      "Genome Tags:\n",
      "   tagId           tag\n",
      "0      1           007\n",
      "1      2  007 (series)\n",
      "2      3  18th century\n",
      "3      4         1920s\n",
      "4      5         1930s \n",
      "\n"
     ]
    }
   ],
   "source": [
    "print(\"Genome Tags:\")\n",
    "print(genome_tags.head(), '\\n')"
   ]
  },
  {
   "cell_type": "code",
   "execution_count": 7,
   "id": "0ee1e9df-d045-4907-914a-72d2313ea775",
   "metadata": {},
   "outputs": [
    {
     "name": "stdout",
     "output_type": "stream",
     "text": [
      "Genome Scores:\n",
      "   movieId  tagId  relevance\n",
      "0        1      1    0.02500\n",
      "1        1      2    0.02500\n",
      "2        1      3    0.05775\n",
      "3        1      4    0.09675\n",
      "4        1      5    0.14675 \n",
      "\n"
     ]
    }
   ],
   "source": [
    "print(\"Genome Scores:\")\n",
    "print(genome_scores.head(), '\\n')"
   ]
  },
  {
   "cell_type": "code",
   "execution_count": 8,
   "id": "c1edc110-cc0a-4b64-9d14-8665f41d8b96",
   "metadata": {},
   "outputs": [
    {
     "name": "stdout",
     "output_type": "stream",
     "text": [
      "Links:\n",
      "   movieId  imdbId   tmdbId\n",
      "0        1  114709    862.0\n",
      "1        2  113497   8844.0\n",
      "2        3  113228  15602.0\n",
      "3        4  114885  31357.0\n",
      "4        5  113041  11862.0\n"
     ]
    }
   ],
   "source": [
    "print(\"Links:\")\n",
    "print(links.head())"
   ]
  },
  {
   "cell_type": "code",
   "execution_count": 9,
   "id": "8e25cab7-6e45-4523-b543-661c1c1fb318",
   "metadata": {},
   "outputs": [
    {
     "name": "stdout",
     "output_type": "stream",
     "text": [
      "<class 'pandas.core.frame.DataFrame'>\n",
      "RangeIndex: 20000263 entries, 0 to 20000262\n",
      "Data columns (total 4 columns):\n",
      " #   Column     Dtype  \n",
      "---  ------     -----  \n",
      " 0   userId     int64  \n",
      " 1   movieId    int64  \n",
      " 2   rating     float64\n",
      " 3   timestamp  object \n",
      "dtypes: float64(1), int64(2), object(1)\n",
      "memory usage: 610.4+ MB\n"
     ]
    }
   ],
   "source": [
    "ratings.info()"
   ]
  },
  {
   "cell_type": "code",
   "execution_count": 10,
   "id": "9b663dbe-0891-4945-950b-28f9b52cff5f",
   "metadata": {},
   "outputs": [
    {
     "data": {
      "text/html": [
       "<div>\n",
       "<style scoped>\n",
       "    .dataframe tbody tr th:only-of-type {\n",
       "        vertical-align: middle;\n",
       "    }\n",
       "\n",
       "    .dataframe tbody tr th {\n",
       "        vertical-align: top;\n",
       "    }\n",
       "\n",
       "    .dataframe thead th {\n",
       "        text-align: right;\n",
       "    }\n",
       "</style>\n",
       "<table border=\"1\" class=\"dataframe\">\n",
       "  <thead>\n",
       "    <tr style=\"text-align: right;\">\n",
       "      <th></th>\n",
       "      <th>userId</th>\n",
       "      <th>movieId</th>\n",
       "      <th>rating</th>\n",
       "    </tr>\n",
       "  </thead>\n",
       "  <tbody>\n",
       "    <tr>\n",
       "      <th>count</th>\n",
       "      <td>20000263.00</td>\n",
       "      <td>20000263.00</td>\n",
       "      <td>20000263.00</td>\n",
       "    </tr>\n",
       "    <tr>\n",
       "      <th>mean</th>\n",
       "      <td>69045.87</td>\n",
       "      <td>9041.57</td>\n",
       "      <td>3.53</td>\n",
       "    </tr>\n",
       "    <tr>\n",
       "      <th>std</th>\n",
       "      <td>40038.63</td>\n",
       "      <td>19789.48</td>\n",
       "      <td>1.05</td>\n",
       "    </tr>\n",
       "    <tr>\n",
       "      <th>min</th>\n",
       "      <td>1.00</td>\n",
       "      <td>1.00</td>\n",
       "      <td>0.50</td>\n",
       "    </tr>\n",
       "    <tr>\n",
       "      <th>25%</th>\n",
       "      <td>34395.00</td>\n",
       "      <td>902.00</td>\n",
       "      <td>3.00</td>\n",
       "    </tr>\n",
       "    <tr>\n",
       "      <th>50%</th>\n",
       "      <td>69141.00</td>\n",
       "      <td>2167.00</td>\n",
       "      <td>3.50</td>\n",
       "    </tr>\n",
       "    <tr>\n",
       "      <th>75%</th>\n",
       "      <td>103637.00</td>\n",
       "      <td>4770.00</td>\n",
       "      <td>4.00</td>\n",
       "    </tr>\n",
       "    <tr>\n",
       "      <th>max</th>\n",
       "      <td>138493.00</td>\n",
       "      <td>131262.00</td>\n",
       "      <td>5.00</td>\n",
       "    </tr>\n",
       "  </tbody>\n",
       "</table>\n",
       "</div>"
      ],
      "text/plain": [
       "            userId      movieId       rating\n",
       "count  20000263.00  20000263.00  20000263.00\n",
       "mean      69045.87      9041.57         3.53\n",
       "std       40038.63     19789.48         1.05\n",
       "min           1.00         1.00         0.50\n",
       "25%       34395.00       902.00         3.00\n",
       "50%       69141.00      2167.00         3.50\n",
       "75%      103637.00      4770.00         4.00\n",
       "max      138493.00    131262.00         5.00"
      ]
     },
     "execution_count": 10,
     "metadata": {},
     "output_type": "execute_result"
    }
   ],
   "source": [
    "ratings.describe().round(2)"
   ]
  },
  {
   "cell_type": "code",
   "execution_count": 11,
   "id": "daf3852e-65a9-4f93-bad9-acd166589a73",
   "metadata": {},
   "outputs": [
    {
     "data": {
      "text/html": [
       "<div>\n",
       "<style scoped>\n",
       "    .dataframe tbody tr th:only-of-type {\n",
       "        vertical-align: middle;\n",
       "    }\n",
       "\n",
       "    .dataframe tbody tr th {\n",
       "        vertical-align: top;\n",
       "    }\n",
       "\n",
       "    .dataframe thead th {\n",
       "        text-align: right;\n",
       "    }\n",
       "</style>\n",
       "<table border=\"1\" class=\"dataframe\">\n",
       "  <thead>\n",
       "    <tr style=\"text-align: right;\">\n",
       "      <th></th>\n",
       "      <th>timestamp</th>\n",
       "    </tr>\n",
       "  </thead>\n",
       "  <tbody>\n",
       "    <tr>\n",
       "      <th>count</th>\n",
       "      <td>20000263</td>\n",
       "    </tr>\n",
       "    <tr>\n",
       "      <th>unique</th>\n",
       "      <td>15351121</td>\n",
       "    </tr>\n",
       "    <tr>\n",
       "      <th>top</th>\n",
       "      <td>1996-03-01 00:00:00</td>\n",
       "    </tr>\n",
       "    <tr>\n",
       "      <th>freq</th>\n",
       "      <td>643</td>\n",
       "    </tr>\n",
       "  </tbody>\n",
       "</table>\n",
       "</div>"
      ],
      "text/plain": [
       "                  timestamp\n",
       "count              20000263\n",
       "unique             15351121\n",
       "top     1996-03-01 00:00:00\n",
       "freq                    643"
      ]
     },
     "execution_count": 11,
     "metadata": {},
     "output_type": "execute_result"
    }
   ],
   "source": [
    "ratings.describe(include='object')"
   ]
  },
  {
   "cell_type": "code",
   "execution_count": 12,
   "id": "b7b502b0-5269-4927-bcc3-c94aee0809ea",
   "metadata": {},
   "outputs": [
    {
     "name": "stdout",
     "output_type": "stream",
     "text": [
      "<class 'pandas.core.frame.DataFrame'>\n",
      "RangeIndex: 27278 entries, 0 to 27277\n",
      "Data columns (total 3 columns):\n",
      " #   Column   Non-Null Count  Dtype \n",
      "---  ------   --------------  ----- \n",
      " 0   movieId  27278 non-null  int64 \n",
      " 1   title    27278 non-null  object\n",
      " 2   genres   27278 non-null  object\n",
      "dtypes: int64(1), object(2)\n",
      "memory usage: 639.5+ KB\n"
     ]
    }
   ],
   "source": [
    "movies.info()"
   ]
  },
  {
   "cell_type": "code",
   "execution_count": 13,
   "id": "399099f6-2fce-4dec-b923-b52e10a891d0",
   "metadata": {},
   "outputs": [
    {
     "data": {
      "text/html": [
       "<div>\n",
       "<style scoped>\n",
       "    .dataframe tbody tr th:only-of-type {\n",
       "        vertical-align: middle;\n",
       "    }\n",
       "\n",
       "    .dataframe tbody tr th {\n",
       "        vertical-align: top;\n",
       "    }\n",
       "\n",
       "    .dataframe thead th {\n",
       "        text-align: right;\n",
       "    }\n",
       "</style>\n",
       "<table border=\"1\" class=\"dataframe\">\n",
       "  <thead>\n",
       "    <tr style=\"text-align: right;\">\n",
       "      <th></th>\n",
       "      <th>movieId</th>\n",
       "    </tr>\n",
       "  </thead>\n",
       "  <tbody>\n",
       "    <tr>\n",
       "      <th>count</th>\n",
       "      <td>27278.00</td>\n",
       "    </tr>\n",
       "    <tr>\n",
       "      <th>mean</th>\n",
       "      <td>59855.48</td>\n",
       "    </tr>\n",
       "    <tr>\n",
       "      <th>std</th>\n",
       "      <td>44429.31</td>\n",
       "    </tr>\n",
       "    <tr>\n",
       "      <th>min</th>\n",
       "      <td>1.00</td>\n",
       "    </tr>\n",
       "    <tr>\n",
       "      <th>25%</th>\n",
       "      <td>6931.25</td>\n",
       "    </tr>\n",
       "    <tr>\n",
       "      <th>50%</th>\n",
       "      <td>68068.00</td>\n",
       "    </tr>\n",
       "    <tr>\n",
       "      <th>75%</th>\n",
       "      <td>100293.25</td>\n",
       "    </tr>\n",
       "    <tr>\n",
       "      <th>max</th>\n",
       "      <td>131262.00</td>\n",
       "    </tr>\n",
       "  </tbody>\n",
       "</table>\n",
       "</div>"
      ],
      "text/plain": [
       "         movieId\n",
       "count   27278.00\n",
       "mean    59855.48\n",
       "std     44429.31\n",
       "min         1.00\n",
       "25%      6931.25\n",
       "50%     68068.00\n",
       "75%    100293.25\n",
       "max    131262.00"
      ]
     },
     "execution_count": 13,
     "metadata": {},
     "output_type": "execute_result"
    }
   ],
   "source": [
    "movies.describe().round(2)"
   ]
  },
  {
   "cell_type": "code",
   "execution_count": 14,
   "id": "3568c224-6d8b-425a-a589-5706d1b047d5",
   "metadata": {},
   "outputs": [
    {
     "data": {
      "text/html": [
       "<div>\n",
       "<style scoped>\n",
       "    .dataframe tbody tr th:only-of-type {\n",
       "        vertical-align: middle;\n",
       "    }\n",
       "\n",
       "    .dataframe tbody tr th {\n",
       "        vertical-align: top;\n",
       "    }\n",
       "\n",
       "    .dataframe thead th {\n",
       "        text-align: right;\n",
       "    }\n",
       "</style>\n",
       "<table border=\"1\" class=\"dataframe\">\n",
       "  <thead>\n",
       "    <tr style=\"text-align: right;\">\n",
       "      <th></th>\n",
       "      <th>title</th>\n",
       "      <th>genres</th>\n",
       "    </tr>\n",
       "  </thead>\n",
       "  <tbody>\n",
       "    <tr>\n",
       "      <th>count</th>\n",
       "      <td>27278</td>\n",
       "      <td>27278</td>\n",
       "    </tr>\n",
       "    <tr>\n",
       "      <th>unique</th>\n",
       "      <td>27262</td>\n",
       "      <td>1342</td>\n",
       "    </tr>\n",
       "    <tr>\n",
       "      <th>top</th>\n",
       "      <td>Aladdin (1992)</td>\n",
       "      <td>Drama</td>\n",
       "    </tr>\n",
       "    <tr>\n",
       "      <th>freq</th>\n",
       "      <td>2</td>\n",
       "      <td>4520</td>\n",
       "    </tr>\n",
       "  </tbody>\n",
       "</table>\n",
       "</div>"
      ],
      "text/plain": [
       "                 title genres\n",
       "count            27278  27278\n",
       "unique           27262   1342\n",
       "top     Aladdin (1992)  Drama\n",
       "freq                 2   4520"
      ]
     },
     "execution_count": 14,
     "metadata": {},
     "output_type": "execute_result"
    }
   ],
   "source": [
    "movies.describe(include='object')"
   ]
  },
  {
   "cell_type": "code",
   "execution_count": 15,
   "id": "7d2c06ca-a94d-433c-a62b-8445cd1cba31",
   "metadata": {},
   "outputs": [
    {
     "name": "stdout",
     "output_type": "stream",
     "text": [
      "<class 'pandas.core.frame.DataFrame'>\n",
      "RangeIndex: 465564 entries, 0 to 465563\n",
      "Data columns (total 4 columns):\n",
      " #   Column     Non-Null Count   Dtype \n",
      "---  ------     --------------   ----- \n",
      " 0   userId     465564 non-null  int64 \n",
      " 1   movieId    465564 non-null  int64 \n",
      " 2   tag        465548 non-null  object\n",
      " 3   timestamp  465564 non-null  object\n",
      "dtypes: int64(2), object(2)\n",
      "memory usage: 14.2+ MB\n"
     ]
    }
   ],
   "source": [
    "tags.info()"
   ]
  },
  {
   "cell_type": "code",
   "execution_count": 16,
   "id": "c577d35f-b70a-4a20-8381-0f262087aee1",
   "metadata": {},
   "outputs": [
    {
     "data": {
      "text/html": [
       "<div>\n",
       "<style scoped>\n",
       "    .dataframe tbody tr th:only-of-type {\n",
       "        vertical-align: middle;\n",
       "    }\n",
       "\n",
       "    .dataframe tbody tr th {\n",
       "        vertical-align: top;\n",
       "    }\n",
       "\n",
       "    .dataframe thead th {\n",
       "        text-align: right;\n",
       "    }\n",
       "</style>\n",
       "<table border=\"1\" class=\"dataframe\">\n",
       "  <thead>\n",
       "    <tr style=\"text-align: right;\">\n",
       "      <th></th>\n",
       "      <th>userId</th>\n",
       "      <th>movieId</th>\n",
       "    </tr>\n",
       "  </thead>\n",
       "  <tbody>\n",
       "    <tr>\n",
       "      <th>count</th>\n",
       "      <td>465564.00</td>\n",
       "      <td>465564.00</td>\n",
       "    </tr>\n",
       "    <tr>\n",
       "      <th>mean</th>\n",
       "      <td>68712.35</td>\n",
       "      <td>32627.76</td>\n",
       "    </tr>\n",
       "    <tr>\n",
       "      <th>std</th>\n",
       "      <td>41877.67</td>\n",
       "      <td>36080.24</td>\n",
       "    </tr>\n",
       "    <tr>\n",
       "      <th>min</th>\n",
       "      <td>18.00</td>\n",
       "      <td>1.00</td>\n",
       "    </tr>\n",
       "    <tr>\n",
       "      <th>25%</th>\n",
       "      <td>28780.00</td>\n",
       "      <td>2571.00</td>\n",
       "    </tr>\n",
       "    <tr>\n",
       "      <th>50%</th>\n",
       "      <td>70201.00</td>\n",
       "      <td>7373.00</td>\n",
       "    </tr>\n",
       "    <tr>\n",
       "      <th>75%</th>\n",
       "      <td>107322.00</td>\n",
       "      <td>62235.00</td>\n",
       "    </tr>\n",
       "    <tr>\n",
       "      <th>max</th>\n",
       "      <td>138472.00</td>\n",
       "      <td>131258.00</td>\n",
       "    </tr>\n",
       "  </tbody>\n",
       "</table>\n",
       "</div>"
      ],
      "text/plain": [
       "          userId    movieId\n",
       "count  465564.00  465564.00\n",
       "mean    68712.35   32627.76\n",
       "std     41877.67   36080.24\n",
       "min        18.00       1.00\n",
       "25%     28780.00    2571.00\n",
       "50%     70201.00    7373.00\n",
       "75%    107322.00   62235.00\n",
       "max    138472.00  131258.00"
      ]
     },
     "execution_count": 16,
     "metadata": {},
     "output_type": "execute_result"
    }
   ],
   "source": [
    "tags.describe().round(2)"
   ]
  },
  {
   "cell_type": "code",
   "execution_count": 17,
   "id": "760f50fb-611e-4960-a9da-786ee682ab8f",
   "metadata": {},
   "outputs": [
    {
     "data": {
      "text/html": [
       "<div>\n",
       "<style scoped>\n",
       "    .dataframe tbody tr th:only-of-type {\n",
       "        vertical-align: middle;\n",
       "    }\n",
       "\n",
       "    .dataframe tbody tr th {\n",
       "        vertical-align: top;\n",
       "    }\n",
       "\n",
       "    .dataframe thead th {\n",
       "        text-align: right;\n",
       "    }\n",
       "</style>\n",
       "<table border=\"1\" class=\"dataframe\">\n",
       "  <thead>\n",
       "    <tr style=\"text-align: right;\">\n",
       "      <th></th>\n",
       "      <th>tag</th>\n",
       "      <th>timestamp</th>\n",
       "    </tr>\n",
       "  </thead>\n",
       "  <tbody>\n",
       "    <tr>\n",
       "      <th>count</th>\n",
       "      <td>465548</td>\n",
       "      <td>465564</td>\n",
       "    </tr>\n",
       "    <tr>\n",
       "      <th>unique</th>\n",
       "      <td>38643</td>\n",
       "      <td>425373</td>\n",
       "    </tr>\n",
       "    <tr>\n",
       "      <th>top</th>\n",
       "      <td>sci-fi</td>\n",
       "      <td>2010-08-25 17:56:41</td>\n",
       "    </tr>\n",
       "    <tr>\n",
       "      <th>freq</th>\n",
       "      <td>3384</td>\n",
       "      <td>22</td>\n",
       "    </tr>\n",
       "  </tbody>\n",
       "</table>\n",
       "</div>"
      ],
      "text/plain": [
       "           tag            timestamp\n",
       "count   465548               465564\n",
       "unique   38643               425373\n",
       "top     sci-fi  2010-08-25 17:56:41\n",
       "freq      3384                   22"
      ]
     },
     "execution_count": 17,
     "metadata": {},
     "output_type": "execute_result"
    }
   ],
   "source": [
    "tags.describe(include='object')"
   ]
  },
  {
   "cell_type": "code",
   "execution_count": 18,
   "id": "d217f1ec-14f3-4d1e-ad6b-a67c7b31eb6a",
   "metadata": {},
   "outputs": [
    {
     "name": "stdout",
     "output_type": "stream",
     "text": [
      "<class 'pandas.core.frame.DataFrame'>\n",
      "RangeIndex: 1128 entries, 0 to 1127\n",
      "Data columns (total 2 columns):\n",
      " #   Column  Non-Null Count  Dtype \n",
      "---  ------  --------------  ----- \n",
      " 0   tagId   1128 non-null   int64 \n",
      " 1   tag     1128 non-null   object\n",
      "dtypes: int64(1), object(1)\n",
      "memory usage: 17.8+ KB\n"
     ]
    }
   ],
   "source": [
    "genome_tags.info()"
   ]
  },
  {
   "cell_type": "code",
   "execution_count": 19,
   "id": "c2151240-cdf1-48f2-8e2a-d2266b23eae7",
   "metadata": {},
   "outputs": [
    {
     "data": {
      "text/html": [
       "<div>\n",
       "<style scoped>\n",
       "    .dataframe tbody tr th:only-of-type {\n",
       "        vertical-align: middle;\n",
       "    }\n",
       "\n",
       "    .dataframe tbody tr th {\n",
       "        vertical-align: top;\n",
       "    }\n",
       "\n",
       "    .dataframe thead th {\n",
       "        text-align: right;\n",
       "    }\n",
       "</style>\n",
       "<table border=\"1\" class=\"dataframe\">\n",
       "  <thead>\n",
       "    <tr style=\"text-align: right;\">\n",
       "      <th></th>\n",
       "      <th>tagId</th>\n",
       "    </tr>\n",
       "  </thead>\n",
       "  <tbody>\n",
       "    <tr>\n",
       "      <th>count</th>\n",
       "      <td>1128.00</td>\n",
       "    </tr>\n",
       "    <tr>\n",
       "      <th>mean</th>\n",
       "      <td>564.50</td>\n",
       "    </tr>\n",
       "    <tr>\n",
       "      <th>std</th>\n",
       "      <td>325.77</td>\n",
       "    </tr>\n",
       "    <tr>\n",
       "      <th>min</th>\n",
       "      <td>1.00</td>\n",
       "    </tr>\n",
       "    <tr>\n",
       "      <th>25%</th>\n",
       "      <td>282.75</td>\n",
       "    </tr>\n",
       "    <tr>\n",
       "      <th>50%</th>\n",
       "      <td>564.50</td>\n",
       "    </tr>\n",
       "    <tr>\n",
       "      <th>75%</th>\n",
       "      <td>846.25</td>\n",
       "    </tr>\n",
       "    <tr>\n",
       "      <th>max</th>\n",
       "      <td>1128.00</td>\n",
       "    </tr>\n",
       "  </tbody>\n",
       "</table>\n",
       "</div>"
      ],
      "text/plain": [
       "         tagId\n",
       "count  1128.00\n",
       "mean    564.50\n",
       "std     325.77\n",
       "min       1.00\n",
       "25%     282.75\n",
       "50%     564.50\n",
       "75%     846.25\n",
       "max    1128.00"
      ]
     },
     "execution_count": 19,
     "metadata": {},
     "output_type": "execute_result"
    }
   ],
   "source": [
    "genome_tags.describe().round(2)"
   ]
  },
  {
   "cell_type": "code",
   "execution_count": 20,
   "id": "d786a5ce-9d21-4bab-a610-cd0f5a34ac54",
   "metadata": {},
   "outputs": [
    {
     "data": {
      "text/html": [
       "<div>\n",
       "<style scoped>\n",
       "    .dataframe tbody tr th:only-of-type {\n",
       "        vertical-align: middle;\n",
       "    }\n",
       "\n",
       "    .dataframe tbody tr th {\n",
       "        vertical-align: top;\n",
       "    }\n",
       "\n",
       "    .dataframe thead th {\n",
       "        text-align: right;\n",
       "    }\n",
       "</style>\n",
       "<table border=\"1\" class=\"dataframe\">\n",
       "  <thead>\n",
       "    <tr style=\"text-align: right;\">\n",
       "      <th></th>\n",
       "      <th>tag</th>\n",
       "    </tr>\n",
       "  </thead>\n",
       "  <tbody>\n",
       "    <tr>\n",
       "      <th>count</th>\n",
       "      <td>1128</td>\n",
       "    </tr>\n",
       "    <tr>\n",
       "      <th>unique</th>\n",
       "      <td>1128</td>\n",
       "    </tr>\n",
       "    <tr>\n",
       "      <th>top</th>\n",
       "      <td>007</td>\n",
       "    </tr>\n",
       "    <tr>\n",
       "      <th>freq</th>\n",
       "      <td>1</td>\n",
       "    </tr>\n",
       "  </tbody>\n",
       "</table>\n",
       "</div>"
      ],
      "text/plain": [
       "         tag\n",
       "count   1128\n",
       "unique  1128\n",
       "top      007\n",
       "freq       1"
      ]
     },
     "execution_count": 20,
     "metadata": {},
     "output_type": "execute_result"
    }
   ],
   "source": [
    "genome_tags.describe(include='object')"
   ]
  },
  {
   "cell_type": "code",
   "execution_count": 21,
   "id": "b5c4ae11-e1d1-4845-a288-5cfaa30348c9",
   "metadata": {},
   "outputs": [
    {
     "name": "stdout",
     "output_type": "stream",
     "text": [
      "<class 'pandas.core.frame.DataFrame'>\n",
      "RangeIndex: 11709768 entries, 0 to 11709767\n",
      "Data columns (total 3 columns):\n",
      " #   Column     Dtype  \n",
      "---  ------     -----  \n",
      " 0   movieId    int64  \n",
      " 1   tagId      int64  \n",
      " 2   relevance  float64\n",
      "dtypes: float64(1), int64(2)\n",
      "memory usage: 268.0 MB\n"
     ]
    }
   ],
   "source": [
    "genome_scores.info()"
   ]
  },
  {
   "cell_type": "code",
   "execution_count": 22,
   "id": "e743ef0d-d14b-469d-8b97-9daf8d66cb12",
   "metadata": {},
   "outputs": [
    {
     "data": {
      "text/html": [
       "<div>\n",
       "<style scoped>\n",
       "    .dataframe tbody tr th:only-of-type {\n",
       "        vertical-align: middle;\n",
       "    }\n",
       "\n",
       "    .dataframe tbody tr th {\n",
       "        vertical-align: top;\n",
       "    }\n",
       "\n",
       "    .dataframe thead th {\n",
       "        text-align: right;\n",
       "    }\n",
       "</style>\n",
       "<table border=\"1\" class=\"dataframe\">\n",
       "  <thead>\n",
       "    <tr style=\"text-align: right;\">\n",
       "      <th></th>\n",
       "      <th>movieId</th>\n",
       "      <th>tagId</th>\n",
       "      <th>relevance</th>\n",
       "    </tr>\n",
       "  </thead>\n",
       "  <tbody>\n",
       "    <tr>\n",
       "      <th>count</th>\n",
       "      <td>11709768.00</td>\n",
       "      <td>11709768.00</td>\n",
       "      <td>11709768.00</td>\n",
       "    </tr>\n",
       "    <tr>\n",
       "      <th>mean</th>\n",
       "      <td>25842.97</td>\n",
       "      <td>564.50</td>\n",
       "      <td>0.12</td>\n",
       "    </tr>\n",
       "    <tr>\n",
       "      <th>std</th>\n",
       "      <td>34676.15</td>\n",
       "      <td>325.63</td>\n",
       "      <td>0.15</td>\n",
       "    </tr>\n",
       "    <tr>\n",
       "      <th>min</th>\n",
       "      <td>1.00</td>\n",
       "      <td>1.00</td>\n",
       "      <td>0.00</td>\n",
       "    </tr>\n",
       "    <tr>\n",
       "      <th>25%</th>\n",
       "      <td>2926.00</td>\n",
       "      <td>282.75</td>\n",
       "      <td>0.02</td>\n",
       "    </tr>\n",
       "    <tr>\n",
       "      <th>50%</th>\n",
       "      <td>6017.00</td>\n",
       "      <td>564.50</td>\n",
       "      <td>0.06</td>\n",
       "    </tr>\n",
       "    <tr>\n",
       "      <th>75%</th>\n",
       "      <td>46062.00</td>\n",
       "      <td>846.25</td>\n",
       "      <td>0.14</td>\n",
       "    </tr>\n",
       "    <tr>\n",
       "      <th>max</th>\n",
       "      <td>131170.00</td>\n",
       "      <td>1128.00</td>\n",
       "      <td>1.00</td>\n",
       "    </tr>\n",
       "  </tbody>\n",
       "</table>\n",
       "</div>"
      ],
      "text/plain": [
       "           movieId        tagId    relevance\n",
       "count  11709768.00  11709768.00  11709768.00\n",
       "mean      25842.97       564.50         0.12\n",
       "std       34676.15       325.63         0.15\n",
       "min           1.00         1.00         0.00\n",
       "25%        2926.00       282.75         0.02\n",
       "50%        6017.00       564.50         0.06\n",
       "75%       46062.00       846.25         0.14\n",
       "max      131170.00      1128.00         1.00"
      ]
     },
     "execution_count": 22,
     "metadata": {},
     "output_type": "execute_result"
    }
   ],
   "source": [
    "genome_scores.describe().round(2)"
   ]
  },
  {
   "cell_type": "code",
   "execution_count": 23,
   "id": "21b6449b-3d7f-4bef-a57b-14397ea74f27",
   "metadata": {
    "scrolled": true
   },
   "outputs": [
    {
     "name": "stdout",
     "output_type": "stream",
     "text": [
      "<class 'pandas.core.frame.DataFrame'>\n",
      "RangeIndex: 27278 entries, 0 to 27277\n",
      "Data columns (total 3 columns):\n",
      " #   Column   Non-Null Count  Dtype  \n",
      "---  ------   --------------  -----  \n",
      " 0   movieId  27278 non-null  int64  \n",
      " 1   imdbId   27278 non-null  int64  \n",
      " 2   tmdbId   27026 non-null  float64\n",
      "dtypes: float64(1), int64(2)\n",
      "memory usage: 639.5 KB\n"
     ]
    }
   ],
   "source": [
    "links.info()"
   ]
  },
  {
   "cell_type": "code",
   "execution_count": 24,
   "id": "0a015046-f252-4d10-a989-b05ec4ebec78",
   "metadata": {},
   "outputs": [
    {
     "data": {
      "text/html": [
       "<div>\n",
       "<style scoped>\n",
       "    .dataframe tbody tr th:only-of-type {\n",
       "        vertical-align: middle;\n",
       "    }\n",
       "\n",
       "    .dataframe tbody tr th {\n",
       "        vertical-align: top;\n",
       "    }\n",
       "\n",
       "    .dataframe thead th {\n",
       "        text-align: right;\n",
       "    }\n",
       "</style>\n",
       "<table border=\"1\" class=\"dataframe\">\n",
       "  <thead>\n",
       "    <tr style=\"text-align: right;\">\n",
       "      <th></th>\n",
       "      <th>movieId</th>\n",
       "      <th>imdbId</th>\n",
       "      <th>tmdbId</th>\n",
       "    </tr>\n",
       "  </thead>\n",
       "  <tbody>\n",
       "    <tr>\n",
       "      <th>count</th>\n",
       "      <td>27278.00</td>\n",
       "      <td>27278.00</td>\n",
       "      <td>27026.00</td>\n",
       "    </tr>\n",
       "    <tr>\n",
       "      <th>mean</th>\n",
       "      <td>59855.48</td>\n",
       "      <td>578185.96</td>\n",
       "      <td>63846.68</td>\n",
       "    </tr>\n",
       "    <tr>\n",
       "      <th>std</th>\n",
       "      <td>44429.31</td>\n",
       "      <td>780470.68</td>\n",
       "      <td>69862.13</td>\n",
       "    </tr>\n",
       "    <tr>\n",
       "      <th>min</th>\n",
       "      <td>1.00</td>\n",
       "      <td>5.00</td>\n",
       "      <td>2.00</td>\n",
       "    </tr>\n",
       "    <tr>\n",
       "      <th>25%</th>\n",
       "      <td>6931.25</td>\n",
       "      <td>77417.25</td>\n",
       "      <td>15936.50</td>\n",
       "    </tr>\n",
       "    <tr>\n",
       "      <th>50%</th>\n",
       "      <td>68068.00</td>\n",
       "      <td>152435.00</td>\n",
       "      <td>39468.50</td>\n",
       "    </tr>\n",
       "    <tr>\n",
       "      <th>75%</th>\n",
       "      <td>100293.25</td>\n",
       "      <td>906271.50</td>\n",
       "      <td>82504.00</td>\n",
       "    </tr>\n",
       "    <tr>\n",
       "      <th>max</th>\n",
       "      <td>131262.00</td>\n",
       "      <td>4530184.00</td>\n",
       "      <td>421510.00</td>\n",
       "    </tr>\n",
       "  </tbody>\n",
       "</table>\n",
       "</div>"
      ],
      "text/plain": [
       "         movieId      imdbId     tmdbId\n",
       "count   27278.00    27278.00   27026.00\n",
       "mean    59855.48   578185.96   63846.68\n",
       "std     44429.31   780470.68   69862.13\n",
       "min         1.00        5.00       2.00\n",
       "25%      6931.25    77417.25   15936.50\n",
       "50%     68068.00   152435.00   39468.50\n",
       "75%    100293.25   906271.50   82504.00\n",
       "max    131262.00  4530184.00  421510.00"
      ]
     },
     "execution_count": 24,
     "metadata": {},
     "output_type": "execute_result"
    }
   ],
   "source": [
    "links.describe().round(2)"
   ]
  },
  {
   "cell_type": "code",
   "execution_count": null,
   "id": "bff7705b-e446-4a21-bccd-bce285c2f309",
   "metadata": {},
   "outputs": [],
   "source": []
  },
  {
   "cell_type": "markdown",
   "id": "08ba9cff-2cf5-4874-b772-8020188bbd2f",
   "metadata": {},
   "source": [
    "## Data Preprocessing"
   ]
  },
  {
   "cell_type": "markdown",
   "id": "290a6225-0440-4207-aa24-110016adb3c1",
   "metadata": {},
   "source": [
    "### 1. Check **Duplicates**"
   ]
  },
  {
   "cell_type": "code",
   "execution_count": 25,
   "id": "64777042-207d-4936-9dfb-3e758c92d7e9",
   "metadata": {},
   "outputs": [
    {
     "data": {
      "text/plain": [
       "0"
      ]
     },
     "execution_count": 25,
     "metadata": {},
     "output_type": "execute_result"
    }
   ],
   "source": [
    "ratings.duplicated().sum()"
   ]
  },
  {
   "cell_type": "code",
   "execution_count": 26,
   "id": "0d57648d-521e-4f36-b2dd-20edc6b100c4",
   "metadata": {},
   "outputs": [
    {
     "data": {
      "text/plain": [
       "0"
      ]
     },
     "execution_count": 26,
     "metadata": {},
     "output_type": "execute_result"
    }
   ],
   "source": [
    "movies.duplicated().sum()"
   ]
  },
  {
   "cell_type": "code",
   "execution_count": 27,
   "id": "de1557f6-0fc3-4306-b913-7c2c513d60b7",
   "metadata": {},
   "outputs": [
    {
     "data": {
      "text/plain": [
       "0"
      ]
     },
     "execution_count": 27,
     "metadata": {},
     "output_type": "execute_result"
    }
   ],
   "source": [
    "tags.duplicated().sum()"
   ]
  },
  {
   "cell_type": "code",
   "execution_count": 28,
   "id": "7da60b2e-e41c-41d4-afdc-34cbaf271d84",
   "metadata": {},
   "outputs": [
    {
     "data": {
      "text/plain": [
       "0"
      ]
     },
     "execution_count": 28,
     "metadata": {},
     "output_type": "execute_result"
    }
   ],
   "source": [
    "genome_tags.duplicated().sum()"
   ]
  },
  {
   "cell_type": "code",
   "execution_count": 29,
   "id": "5edee701-da17-4e84-a40c-67cfb800b527",
   "metadata": {},
   "outputs": [
    {
     "data": {
      "text/plain": [
       "0"
      ]
     },
     "execution_count": 29,
     "metadata": {},
     "output_type": "execute_result"
    }
   ],
   "source": [
    "genome_scores.duplicated().sum()"
   ]
  },
  {
   "cell_type": "code",
   "execution_count": 30,
   "id": "bba36fd0-bd80-4dd1-a64d-99933f4b44cb",
   "metadata": {},
   "outputs": [
    {
     "data": {
      "text/plain": [
       "0"
      ]
     },
     "execution_count": 30,
     "metadata": {},
     "output_type": "execute_result"
    }
   ],
   "source": [
    "links.duplicated().sum()"
   ]
  },
  {
   "cell_type": "markdown",
   "id": "b2c5b8a2-3de7-4bfd-aa52-588313fd71ba",
   "metadata": {},
   "source": [
    "### 2. Check **Missing Values**"
   ]
  },
  {
   "cell_type": "code",
   "execution_count": 31,
   "id": "fbe0201d-3aa3-4eab-8dd2-e145823108c9",
   "metadata": {},
   "outputs": [
    {
     "data": {
      "text/plain": [
       "userId       0\n",
       "movieId      0\n",
       "rating       0\n",
       "timestamp    0\n",
       "dtype: int64"
      ]
     },
     "execution_count": 31,
     "metadata": {},
     "output_type": "execute_result"
    }
   ],
   "source": [
    "ratings.isna().sum()"
   ]
  },
  {
   "cell_type": "code",
   "execution_count": 32,
   "id": "6c7abd23-a97a-4128-80c6-9116c5d2f032",
   "metadata": {},
   "outputs": [
    {
     "data": {
      "text/plain": [
       "movieId    0\n",
       "title      0\n",
       "genres     0\n",
       "dtype: int64"
      ]
     },
     "execution_count": 32,
     "metadata": {},
     "output_type": "execute_result"
    }
   ],
   "source": [
    "movies.isna().sum()"
   ]
  },
  {
   "cell_type": "code",
   "execution_count": 33,
   "id": "4284d30e-2fdb-4e69-82d8-81b209967d41",
   "metadata": {},
   "outputs": [
    {
     "data": {
      "text/plain": [
       "userId        0\n",
       "movieId       0\n",
       "tag          16\n",
       "timestamp     0\n",
       "dtype: int64"
      ]
     },
     "execution_count": 33,
     "metadata": {},
     "output_type": "execute_result"
    }
   ],
   "source": [
    "tags.isna().sum()"
   ]
  },
  {
   "cell_type": "code",
   "execution_count": 34,
   "id": "6109920a-42a6-4de8-9d3f-fac35ae8e264",
   "metadata": {},
   "outputs": [
    {
     "data": {
      "text/plain": [
       "tagId    0\n",
       "tag      0\n",
       "dtype: int64"
      ]
     },
     "execution_count": 34,
     "metadata": {},
     "output_type": "execute_result"
    }
   ],
   "source": [
    "genome_tags.isna().sum()"
   ]
  },
  {
   "cell_type": "code",
   "execution_count": 35,
   "id": "14a2d1b9-d882-4721-ba92-35adf5768ff9",
   "metadata": {},
   "outputs": [
    {
     "data": {
      "text/plain": [
       "movieId      0\n",
       "tagId        0\n",
       "relevance    0\n",
       "dtype: int64"
      ]
     },
     "execution_count": 35,
     "metadata": {},
     "output_type": "execute_result"
    }
   ],
   "source": [
    "genome_scores.isna().sum()"
   ]
  },
  {
   "cell_type": "code",
   "execution_count": 36,
   "id": "ab44335b-64f7-4122-ba8c-eabe296a5d4c",
   "metadata": {},
   "outputs": [
    {
     "data": {
      "text/plain": [
       "movieId      0\n",
       "imdbId       0\n",
       "tmdbId     252\n",
       "dtype: int64"
      ]
     },
     "execution_count": 36,
     "metadata": {},
     "output_type": "execute_result"
    }
   ],
   "source": [
    "links.isna().sum()"
   ]
  },
  {
   "cell_type": "markdown",
   "id": "8bac9735-004c-4fb8-9876-9e7953c4e39f",
   "metadata": {},
   "source": [
    "#### Remove **Nulls**"
   ]
  },
  {
   "cell_type": "code",
   "execution_count": 37,
   "id": "c29b51d8-af8b-44d5-a4ad-b3fe45ea3d59",
   "metadata": {},
   "outputs": [],
   "source": [
    "tags.dropna(inplace=True)\n",
    "links.dropna(inplace=True)"
   ]
  },
  {
   "cell_type": "markdown",
   "id": "67223f79-021f-40c8-81a5-888f9aaf0350",
   "metadata": {},
   "source": [
    "### 3. Handle **datatime** type"
   ]
  },
  {
   "cell_type": "code",
   "execution_count": 38,
   "id": "95355b81-61a9-4b06-82a2-e2c5052b1e51",
   "metadata": {},
   "outputs": [],
   "source": [
    "ratings['timestamp'] = pd.to_datetime(ratings['timestamp'], errors='coerce')\n",
    "tags['timestamp'] = pd.to_datetime(tags['timestamp'], errors='coerce')"
   ]
  },
  {
   "cell_type": "code",
   "execution_count": 39,
   "id": "a9bd8f5f-c876-4409-83df-82feabe5e904",
   "metadata": {},
   "outputs": [
    {
     "data": {
      "text/plain": [
       "userId       0\n",
       "movieId      0\n",
       "rating       0\n",
       "timestamp    0\n",
       "dtype: int64"
      ]
     },
     "execution_count": 39,
     "metadata": {},
     "output_type": "execute_result"
    }
   ],
   "source": [
    "ratings.isna().sum()"
   ]
  },
  {
   "cell_type": "code",
   "execution_count": 40,
   "id": "88377e09-72e0-4e15-b889-3de91fd16b92",
   "metadata": {},
   "outputs": [
    {
     "data": {
      "text/plain": [
       "userId       0\n",
       "movieId      0\n",
       "tag          0\n",
       "timestamp    0\n",
       "dtype: int64"
      ]
     },
     "execution_count": 40,
     "metadata": {},
     "output_type": "execute_result"
    }
   ],
   "source": [
    "tags.isna().sum()"
   ]
  },
  {
   "cell_type": "code",
   "execution_count": null,
   "id": "3934dc66-427d-47c3-be77-56a629530212",
   "metadata": {},
   "outputs": [],
   "source": []
  },
  {
   "cell_type": "markdown",
   "id": "51b76eec-b834-458d-811a-b93e170b0636",
   "metadata": {},
   "source": [
    "## Exploratory Data Analysis (EDA)"
   ]
  },
  {
   "cell_type": "markdown",
   "id": "a0bde574-a92e-4dfa-92da-af3bd1e5fb3e",
   "metadata": {},
   "source": [
    "### Rating Distribution Analysis"
   ]
  },
  {
   "cell_type": "code",
   "execution_count": 44,
   "id": "3214cfd1-32c4-431b-8e9b-b9e60223c8a8",
   "metadata": {},
   "outputs": [
    {
     "data": {
      "text/plain": [
       "Text(0.5, 1.0, 'Distribution of Movie Ratings')"
      ]
     },
     "execution_count": 44,
     "metadata": {},
     "output_type": "execute_result"
    },
    {
     "data": {
      "image/png": "[encoded data removed]",
      "text/plain": [
       "<Figure size 800x500 with 1 Axes>"
      ]
     },
     "metadata": {},
     "output_type": "display_data"
    }
   ],
   "source": [
    "plt.figure(figsize=(8, 5))\n",
    "sns.histplot(ratings['rating'], bins=10, kde=False)\n",
    "plt.title(\"Distribution of Movie Ratings\")"
   ]
  },
  {
   "cell_type": "markdown",
   "id": "8195cdd8-9823-48b4-b1b2-478ffe0ad7eb",
   "metadata": {},
   "source": [
    "#### This figure show that the most popular ratings from *3.8 to 4.1*"
   ]
  },
  {
   "cell_type": "markdown",
   "id": "b9152a5b-84aa-4640-ad1e-9fdd08367dfc",
   "metadata": {},
   "source": [
    "### User Activity (Ratings per User)"
   ]
  },
  {
   "cell_type": "code",
   "execution_count": 46,
   "id": "4a95ae50-7bdd-4d73-81b6-6d17d3f17295",
   "metadata": {},
   "outputs": [
    {
     "data": {
      "text/plain": [
       "Text(0, 0.5, 'Number of Users')"
      ]
     },
     "execution_count": 46,
     "metadata": {},
     "output_type": "execute_result"
    },
    {
     "data": {
      "image/png": "[encoded data removed]",
      "text/plain": [
       "<Figure size 640x480 with 1 Axes>"
      ]
     },
     "metadata": {},
     "output_type": "display_data"
    }
   ],
   "source": [
    "user_activity = ratings.groupby('userId').size()\n",
    "sns.histplot(user_activity, bins=100, log_scale=(True, True))\n",
    "plt.title(\"Number of Ratings per User\")\n",
    "plt.xlabel(\"Ratings Count\")\n",
    "plt.ylabel(\"Number of Users\")"
   ]
  },
  {
   "cell_type": "markdown",
   "id": "a6a4c1a4-c09a-4fe6-ada6-1e3d572f3733",
   "metadata": {},
   "source": [
    "### Movie Popularity (Ratings per Movie)"
   ]
  },
  {
   "cell_type": "code",
   "execution_count": 47,
   "id": "bb2e8be5-54f3-4202-9b4e-2cd803a43694",
   "metadata": {},
   "outputs": [
    {
     "data": {
      "text/plain": [
       "Text(0, 0.5, 'Number of Movies')"
      ]
     },
     "execution_count": 47,
     "metadata": {},
     "output_type": "execute_result"
    },
    {
     "data": {
      "image/png": "[encoded data removed]",
      "text/plain": [
       "<Figure size 640x480 with 1 Axes>"
      ]
     },
     "metadata": {},
     "output_type": "display_data"
    }
   ],
   "source": [
    "movie_popularity = ratings.groupby('movieId').size()\n",
    "sns.histplot(movie_popularity, bins=100, log_scale=(True, True))\n",
    "plt.title(\"Number of Ratings per Movie\")\n",
    "plt.xlabel(\"Ratings Count\")\n",
    "plt.ylabel(\"Number of Movies\")"
   ]
  },
  {
   "cell_type": "markdown",
   "id": "f03a3072-c99d-49b9-88a9-25957de0c860",
   "metadata": {},
   "source": [
    "### Merge with movies.csv and Analyze Genres"
   ]
  },
  {
   "cell_type": "code",
   "execution_count": 48,
   "id": "39fa7879-bf6e-43eb-866a-8d1faea391e5",
   "metadata": {},
   "outputs": [],
   "source": [
    "merged = ratings.merge(movies, on='movieId')"
   ]
  },
  {
   "cell_type": "code",
   "execution_count": 49,
   "id": "3d89d8df-f7ab-47be-a940-716a988d98ff",
   "metadata": {},
   "outputs": [],
   "source": [
    "from collections import Counter"
   ]
  },
  {
   "cell_type": "code",
   "execution_count": 50,
   "id": "22fdbaf4-20ff-4b7e-8d9c-8b846b8d4fcb",
   "metadata": {},
   "outputs": [],
   "source": [
    "# Split genres and count\n",
    "genre_counts = Counter()\n",
    "for genres in merged['genres']:\n",
    "    for g in genres.split('|'):\n",
    "        genre_counts[g] += 1"
   ]
  },
  {
   "cell_type": "code",
   "execution_count": 51,
   "id": "874fdadc-37b9-4a46-8629-435aa282eaf2",
   "metadata": {},
   "outputs": [
    {
     "data": {
      "text/plain": [
       "Text(0, 0.5, 'Number of Ratings')"
      ]
     },
     "execution_count": 51,
     "metadata": {},
     "output_type": "execute_result"
    },
    {
     "data": {
      "image/png": "[encoded data removed]",
      "text/plain": [
       "<Figure size 1000x500 with 1 Axes>"
      ]
     },
     "metadata": {},
     "output_type": "display_data"
    }
   ],
   "source": [
    "plt.figure(figsize=(10, 5))\n",
    "sns.barplot(x=list(genre_counts.keys()), y=list(genre_counts.values()))\n",
    "plt.xticks(rotation=45)\n",
    "plt.title(\"Genre Frequency in Ratings\")\n",
    "plt.ylabel(\"Number of Ratings\")"
   ]
  },
  {
   "cell_type": "markdown",
   "id": "0137bcb7-05d2-4727-84f3-683e02203863",
   "metadata": {},
   "source": [
    "#### This figure show that most of ratings is from **Drama & Comedy** movies"
   ]
  },
  {
   "cell_type": "markdown",
   "id": "ba087179-39ba-4f17-b3a2-5b9be3c4748b",
   "metadata": {},
   "source": [
    "### Average Rating per Genre or Movie"
   ]
  },
  {
   "cell_type": "code",
   "execution_count": 52,
   "id": "b5ca7eed-7111-43b0-902d-a6daa38b5545",
   "metadata": {},
   "outputs": [
    {
     "data": {
      "image/png": "[encoded data removed]",
      "text/plain": [
       "<Figure size 1000x500 with 1 Axes>"
      ]
     },
     "metadata": {},
     "output_type": "display_data"
    }
   ],
   "source": [
    "genre_avg = merged.copy()\n",
    "genre_avg['genres'] = genre_avg['genres'].str.split('|')\n",
    "genre_avg = genre_avg.explode('genres')\n",
    "\n",
    "avg_rating_per_genre = genre_avg.groupby('genres')['rating'].mean().sort_values(ascending=False)\n",
    "\n",
    "avg_rating_per_genre.plot(kind='bar', figsize=(10,5), title='Average Rating per Genre')\n",
    "plt.ylabel(\"Average Rating\")\n",
    "plt.show()"
   ]
  },
  {
   "cell_type": "markdown",
   "id": "f7399056-b807-4724-99d0-9a3d85fc1d01",
   "metadata": {},
   "source": [
    "### Check User-Movie Rating Matrix Sparsity\n",
    "Sparsity is very important in collaborative filtering."
   ]
  },
  {
   "cell_type": "code",
   "execution_count": 53,
   "id": "729bdd65-95d9-4520-9ead-74c9e5a1179f",
   "metadata": {},
   "outputs": [
    {
     "name": "stdout",
     "output_type": "stream",
     "text": [
      "Matrix Sparsity: 0.9946\n"
     ]
    }
   ],
   "source": [
    "num_users = ratings['userId'].nunique()\n",
    "num_movies = ratings['movieId'].nunique()\n",
    "num_ratings = len(ratings)\n",
    "\n",
    "sparsity = 1 - (num_ratings / (num_users * num_movies))\n",
    "print(f\"Matrix Sparsity: {sparsity:.4f}\")"
   ]
  },
  {
   "cell_type": "markdown",
   "id": "dbd44e16-a19e-46a9-b84b-f0da79993657",
   "metadata": {},
   "source": [
    "#### means that only 0.54% of all possible user–movie rating combinations exist, and 99.46% are missing."
   ]
  },
  {
   "cell_type": "markdown",
   "id": "78b03da7-a7ec-42bf-bd82-c1074dbbb5d3",
   "metadata": {},
   "source": [
    "### Explore trends over time."
   ]
  },
  {
   "cell_type": "code",
   "execution_count": 56,
   "id": "4e61afc0-55ea-4653-8ae7-222948efe13c",
   "metadata": {},
   "outputs": [
    {
     "data": {
      "image/png": "[encoded data removed]",
      "text/plain": [
       "<Figure size 640x480 with 1 Axes>"
      ]
     },
     "metadata": {},
     "output_type": "display_data"
    }
   ],
   "source": [
    "ratings['year'] = ratings['timestamp'].dt.year\n",
    "\n",
    "ratings.groupby('year')['rating'].count().plot(kind='line', title='Ratings per Year')\n",
    "plt.ylabel(\"Number of Ratings\")\n",
    "plt.show()"
   ]
  },
  {
   "cell_type": "markdown",
   "id": "8c8009a8-8906-4a7d-8597-c61b33b5b556",
   "metadata": {},
   "source": [
    "### This figure show that **2000** is most year has Ratings"
   ]
  },
  {
   "cell_type": "code",
   "execution_count": null,
   "id": "7659548a-d8d6-4adc-91ed-96234c15d849",
   "metadata": {},
   "outputs": [],
   "source": []
  },
  {
   "cell_type": "markdown",
   "id": "d90895b4-bc7f-49e8-bce4-de5ddd3e8e29",
   "metadata": {},
   "source": [
    "## Building a Collaborative Filtering Model (SVD)\n",
    "We’ll use the **Surprise** library, which is specifically built for **recommender systems**."
   ]
  },
  {
   "cell_type": "markdown",
   "id": "278ec142-7c3c-4435-bbe6-df9bede66246",
   "metadata": {},
   "source": [
    "#### **SVD** is a matrix factorization technique that decomposes a user-item interaction matrix into lower-dimensional representations, allowing for predictions of user preferences. "
   ]
  },
  {
   "cell_type": "code",
   "execution_count": 57,
   "id": "854d399d-72f3-430c-bc72-18245b211388",
   "metadata": {},
   "outputs": [],
   "source": [
    "from surprise import Dataset, Reader\n",
    "from surprise.model_selection import cross_validate"
   ]
  },
  {
   "cell_type": "markdown",
   "id": "8b69f907-5177-4400-8a06-26989190a965",
   "metadata": {},
   "source": [
    "### 1. Define a Reader\n",
    "Surprise needs this to understand rating scale"
   ]
  },
  {
   "cell_type": "code",
   "execution_count": 58,
   "id": "f2cca287-a8a4-4330-950b-a11a02a7e33a",
   "metadata": {},
   "outputs": [],
   "source": [
    "reader = Reader(rating_scale=(0.5, 5.0))"
   ]
  },
  {
   "cell_type": "markdown",
   "id": "b2309e4a-9f99-4b9f-a722-c68e78330aa0",
   "metadata": {},
   "source": [
    "### 2. Load the dataset into **Surprise** format"
   ]
  },
  {
   "cell_type": "code",
   "execution_count": 59,
   "id": "788d08fd-cede-4967-9e1c-ddaddb77873e",
   "metadata": {},
   "outputs": [],
   "source": [
    "data = Dataset.load_from_df(ratings[['userId', 'movieId', 'rating']], reader)"
   ]
  },
  {
   "cell_type": "markdown",
   "id": "d8458c76-2143-4371-a463-aa3ee575bf12",
   "metadata": {},
   "source": [
    "#### Surprise works by learning from **user behavior** — not metadata — so it doesn't need genre, tags, or titles. That’s by design."
   ]
  },
  {
   "cell_type": "markdown",
   "id": "bd93d03b-0d36-4a6a-85d3-ef76a4927c11",
   "metadata": {},
   "source": [
    "### 3. Quick check with cross-validation using **Singular Value Decomposition (SVD)**"
   ]
  },
  {
   "cell_type": "code",
   "execution_count": 62,
   "id": "f90b11f5-878e-4d1f-b4f7-ebd292cf91b2",
   "metadata": {},
   "outputs": [],
   "source": [
    "from surprise import SVD"
   ]
  },
  {
   "cell_type": "code",
   "execution_count": 63,
   "id": "4f687540-c1fc-4042-b0ba-0e3b4b28b55f",
   "metadata": {},
   "outputs": [
    {
     "name": "stdout",
     "output_type": "stream",
     "text": [
      "Evaluating model with 5-fold cross-validation...\n",
      "Evaluating RMSE, MAE of algorithm SVD on 5 split(s).\n",
      "\n",
      "                  Fold 1  Fold 2  Fold 3  Fold 4  Fold 5  Mean    Std     \n",
      "RMSE (testset)    0.7858  0.7861  0.7859  0.7858  0.7858  0.7859  0.0001  \n",
      "MAE (testset)     0.5978  0.5982  0.5980  0.5979  0.5978  0.5980  0.0002  \n",
      "Fit time          224.51  230.78  230.81  231.51  230.74  229.67  2.60    \n",
      "Test time         59.39   70.11   83.56   77.83   70.55   72.29   8.15    \n"
     ]
    }
   ],
   "source": [
    "svd_model = SVD()\n",
    "print(\"Evaluating model with 5-fold cross-validation...\")\n",
    "cv_results = cross_validate(svd_model, data, measures=['RMSE', 'MAE'], cv=5, verbose=True)"
   ]
  },
  {
   "cell_type": "markdown",
   "id": "40f1c4da-7bb2-4608-ab2b-254676e51506",
   "metadata": {},
   "source": [
    "### 4. Split into train and test sets"
   ]
  },
  {
   "cell_type": "code",
   "execution_count": 60,
   "id": "5eb83dba-714e-427c-b403-171445cc9e35",
   "metadata": {},
   "outputs": [],
   "source": [
    "from surprise.model_selection import train_test_split"
   ]
  },
  {
   "cell_type": "code",
   "execution_count": 61,
   "id": "ce2af6a8-06ab-41de-84c0-ffd32d4a1dc4",
   "metadata": {},
   "outputs": [],
   "source": [
    "trainset, testset = train_test_split(data, test_size=0.2, random_state=42)"
   ]
  },
  {
   "cell_type": "markdown",
   "id": "a74741f1-76a6-4700-856c-599d9b022509",
   "metadata": {},
   "source": [
    "### 5. Modelling"
   ]
  },
  {
   "cell_type": "markdown",
   "id": "53763784-f3ec-468c-a1a9-09151f3d9411",
   "metadata": {},
   "source": [
    "#### Training"
   ]
  },
  {
   "cell_type": "code",
   "execution_count": 64,
   "id": "c6150acb-9b2c-4f85-ab31-4888503995b9",
   "metadata": {},
   "outputs": [
    {
     "data": {
      "text/plain": [
       "<surprise.prediction_algorithms.matrix_factorization.SVD at 0x251ee8f3890>"
      ]
     },
     "execution_count": 64,
     "metadata": {},
     "output_type": "execute_result"
    }
   ],
   "source": [
    "final_model = SVD()\n",
    "final_model.fit(trainset)"
   ]
  },
  {
   "cell_type": "markdown",
   "id": "fe4cd865-5bac-4ab5-b2ca-ae91fbcd0155",
   "metadata": {},
   "source": [
    "#### Evaluation"
   ]
  },
  {
   "cell_type": "code",
   "execution_count": 65,
   "id": "c4de39d7-e165-4a43-817d-9190c3c1f560",
   "metadata": {},
   "outputs": [],
   "source": [
    "from surprise import accuracy"
   ]
  },
  {
   "cell_type": "code",
   "execution_count": 66,
   "id": "70ab9dd9-5726-4c7d-9c59-e2872582d1c8",
   "metadata": {},
   "outputs": [],
   "source": [
    "predictions = final_model.test(testset)"
   ]
  },
  {
   "cell_type": "code",
   "execution_count": 67,
   "id": "252ce7a7-91a4-42a0-8fc6-e4d49a8c6ad9",
   "metadata": {
    "scrolled": true
   },
   "outputs": [
    {
     "name": "stdout",
     "output_type": "stream",
     "text": [
      "Final Model Performance:\n",
      "RMSE: 0.7866\n",
      "RMSE: 0.7866\n",
      "MAE:  0.5982\n",
      "MAE: 0.5982\n"
     ]
    }
   ],
   "source": [
    "print(\"Final Model Performance:\")\n",
    "print(\"RMSE:\", round(accuracy.rmse(predictions), 4))\n",
    "print(\"MAE:\", round(accuracy.mae(predictions), 4))"
   ]
  },
  {
   "cell_type": "markdown",
   "id": "f7c185eb-b4d7-43d8-a394-8860ea17a358",
   "metadata": {},
   "source": [
    "### Saving"
   ]
  },
  {
   "cell_type": "code",
   "execution_count": 71,
   "id": "48f5cd56-7204-487d-8f96-4be9a9cb073a",
   "metadata": {},
   "outputs": [
    {
     "data": {
      "text/plain": [
       "['svd_trained_model.joblib']"
      ]
     },
     "execution_count": 71,
     "metadata": {},
     "output_type": "execute_result"
    }
   ],
   "source": [
    "from joblib import dump\n",
    "\n",
    "dump(final_model, 'svd_trained_model.joblib')"
   ]
  },
  {
   "cell_type": "markdown",
   "id": "01d19fee-fd28-4fac-8a72-74ad4613bda7",
   "metadata": {
    "jp-MarkdownHeadingCollapsed": true
   },
   "source": [
    "### Generate Top 10 Movie Recommendations per User"
   ]
  },
  {
   "cell_type": "code",
   "execution_count": 68,
   "id": "15c9bd1e-89ab-4654-814d-08616b89f4f3",
   "metadata": {},
   "outputs": [],
   "source": [
    "from collections import defaultdict"
   ]
  },
  {
   "cell_type": "markdown",
   "id": "dd14d607-ad8d-45fd-82b9-71cd9a59123a",
   "metadata": {},
   "source": [
    "#### 1. Get all user-movie pairs NOT in training set"
   ]
  },
  {
   "cell_type": "code",
   "execution_count": 72,
   "id": "ef4310a6-3bad-441b-9620-56bc2ba87e67",
   "metadata": {},
   "outputs": [
    {
     "ename": "MemoryError",
     "evalue": "",
     "output_type": "error",
     "traceback": [
      "\u001b[1;31m---------------------------------------------------------------------------\u001b[0m",
      "\u001b[1;31mMemoryError\u001b[0m                               Traceback (most recent call last)",
      "Cell \u001b[1;32mIn[72], line 1\u001b[0m\n\u001b[1;32m----> 1\u001b[0m trainset_user_items \u001b[38;5;241m=\u001b[39m trainset\u001b[38;5;241m.\u001b[39mbuild_anti_testset()\n",
      "File \u001b[1;32m~\\anaconda3\\Lib\\site-packages\\surprise\\trainset.py:237\u001b[0m, in \u001b[0;36mTrainset.build_anti_testset\u001b[1;34m(self, fill)\u001b[0m\n\u001b[0;32m    235\u001b[0m \u001b[38;5;28;01mfor\u001b[39;00m u \u001b[38;5;129;01min\u001b[39;00m \u001b[38;5;28mself\u001b[39m\u001b[38;5;241m.\u001b[39mall_users():\n\u001b[0;32m    236\u001b[0m     user_items \u001b[38;5;241m=\u001b[39m {j \u001b[38;5;28;01mfor\u001b[39;00m (j, _) \u001b[38;5;129;01min\u001b[39;00m \u001b[38;5;28mself\u001b[39m\u001b[38;5;241m.\u001b[39mur[u]}\n\u001b[1;32m--> 237\u001b[0m     anti_testset \u001b[38;5;241m+\u001b[39m\u001b[38;5;241m=\u001b[39m [\n\u001b[0;32m    238\u001b[0m         (\u001b[38;5;28mself\u001b[39m\u001b[38;5;241m.\u001b[39mto_raw_uid(u), \u001b[38;5;28mself\u001b[39m\u001b[38;5;241m.\u001b[39mto_raw_iid(i), fill)\n\u001b[0;32m    239\u001b[0m         \u001b[38;5;28;01mfor\u001b[39;00m i \u001b[38;5;129;01min\u001b[39;00m \u001b[38;5;28mself\u001b[39m\u001b[38;5;241m.\u001b[39mall_items()\n\u001b[0;32m    240\u001b[0m         \u001b[38;5;28;01mif\u001b[39;00m i \u001b[38;5;129;01mnot\u001b[39;00m \u001b[38;5;129;01min\u001b[39;00m user_items\n\u001b[0;32m    241\u001b[0m     ]\n\u001b[0;32m    242\u001b[0m \u001b[38;5;28;01mreturn\u001b[39;00m anti_testset\n",
      "\u001b[1;31mMemoryError\u001b[0m: "
     ]
    }
   ],
   "source": [
    "trainset_user_items = trainset.build_anti_testset()"
   ]
  },
  {
   "cell_type": "markdown",
   "id": "52bfa231-7cb2-4f76-a6bb-754540aec995",
   "metadata": {},
   "source": [
    "#### 2. Predict ratings for those unseen movies"
   ]
  },
  {
   "cell_type": "code",
   "execution_count": null,
   "id": "744d1e60-7d1e-481a-9860-7057d92e9e5c",
   "metadata": {},
   "outputs": [],
   "source": [
    "predictions = final_model.test(trainset_user_items)"
   ]
  },
  {
   "cell_type": "markdown",
   "id": "a463071f-ee3f-4391-936b-d3f65983a300",
   "metadata": {},
   "source": [
    "#### 3. Function to get Top-N recommendations"
   ]
  },
  {
   "cell_type": "code",
   "execution_count": null,
   "id": "efdaaa1c-c6a9-408d-b008-d63d703c2fc6",
   "metadata": {},
   "outputs": [],
   "source": [
    "def get_top_n(predictions, n=10):\n",
    "    top_n = defaultdict(list)\n",
    "    \n",
    "    # Group predictions by user\n",
    "    for uid, iid, true_r, est, _ in predictions:\n",
    "        top_n[uid].append((iid, est))\n",
    "    \n",
    "    # Sort and get top-n for each user\n",
    "    for uid, user_ratings in top_n.items():\n",
    "        user_ratings.sort(key=lambda x: x[1], reverse=True)\n",
    "        top_n[uid] = user_ratings[:n]\n",
    "    \n",
    "    return top_n"
   ]
  },
  {
   "cell_type": "markdown",
   "id": "6988220b-a4b0-4323-9595-d120f18e9c04",
   "metadata": {},
   "source": [
    "#### 4. Get Top 10 movie recommendations for each user"
   ]
  },
  {
   "cell_type": "code",
   "execution_count": null,
   "id": "e005a957-d446-4392-99b9-ff1f4ff75272",
   "metadata": {},
   "outputs": [],
   "source": [
    "top_n_recommendations = get_top_n(predictions, n=10)"
   ]
  },
  {
   "cell_type": "markdown",
   "id": "142e360e-bc6f-4913-863e-67cbc1f35572",
   "metadata": {},
   "source": [
    "#### Example: Show top 10 recommendations for **user 1**"
   ]
  },
  {
   "cell_type": "code",
   "execution_count": null,
   "id": "cab7da2b-2beb-4af8-80bd-b6783f323123",
   "metadata": {},
   "outputs": [],
   "source": [
    "# Create mapping: movieId -> title\n",
    "movie_id_to_title = dict(zip(movies['movieId'], movies['title']))\n",
    "\n",
    "# Print User 1's top 10 movie titles\n",
    "print(f\"\\nTop 10 movie recommendations for User 1 (with titles):\")\n",
    "for movie_id, score in top_n_recommendations[1]:\n",
    "    title = movie_id_to_title.get(movie_id, \"Unknown Movie\")\n",
    "    print(f\"{title} (Predicted Rating: {round(score, 2)})\")"
   ]
  },
  {
   "cell_type": "code",
   "execution_count": null,
   "id": "60c94d23-dff0-4111-a38e-cecda7c96f1f",
   "metadata": {},
   "outputs": [],
   "source": []
  },
  {
   "cell_type": "markdown",
   "id": "7d89828d-da9c-42fe-8704-158720617274",
   "metadata": {},
   "source": [
    "## Reconnect"
   ]
  },
  {
   "cell_type": "markdown",
   "id": "0b64604f-0e4d-4cc1-8df9-ed9c02f1facf",
   "metadata": {},
   "source": [
    "### Generate Top 10 Movie Recommendations per User 1"
   ]
  },
  {
   "cell_type": "code",
   "execution_count": 1,
   "id": "9cbcb557-1d06-4153-aa16-a574f6bb5f1b",
   "metadata": {},
   "outputs": [],
   "source": [
    "import pandas as pd\n",
    "from joblib import load\n",
    "from surprise import Dataset, Reader"
   ]
  },
  {
   "cell_type": "code",
   "execution_count": 2,
   "id": "ca391215-5bd9-4a45-8795-1b00d8a38696",
   "metadata": {},
   "outputs": [],
   "source": [
    "# Load the saved model\n",
    "final_model = load('svd_trained_model.joblib')"
   ]
  },
  {
   "cell_type": "code",
   "execution_count": 4,
   "id": "856be37f-8543-4dc0-9c31-3fbaae829e23",
   "metadata": {},
   "outputs": [],
   "source": [
    "# Reload the ratings data again\n",
    "ratings = pd.read_csv('rating.csv')\n",
    "movies = pd.read_csv('movie.csv')\n",
    "reader = Reader(rating_scale=(0.5, 5.0))\n",
    "data = Dataset.load_from_df(ratings[['userId', 'movieId', 'rating']], reader)"
   ]
  },
  {
   "cell_type": "code",
   "execution_count": 5,
   "id": "8f0f0454-9873-4d5f-a623-44f6b5d8915a",
   "metadata": {},
   "outputs": [],
   "source": [
    "# Rebuild trainset from the same data to allow predictions\n",
    "trainset = data.build_full_trainset()"
   ]
  },
  {
   "cell_type": "code",
   "execution_count": 6,
   "id": "eee2aed2-060f-409e-a47e-b861bdf328e7",
   "metadata": {},
   "outputs": [],
   "source": [
    "from collections import defaultdict"
   ]
  },
  {
   "cell_type": "code",
   "execution_count": 7,
   "id": "51585441-b853-4b3b-ae8a-ac26d802b8e4",
   "metadata": {},
   "outputs": [],
   "source": [
    "# Get the raw ID of user 1 (in case Surprise is using internal mapping)\n",
    "raw_user_id = 1\n",
    "inner_user_id = trainset.to_inner_uid(raw_user_id)"
   ]
  },
  {
   "cell_type": "code",
   "execution_count": 8,
   "id": "e9997a32-ea84-4684-b883-9c4e5dbb1c3c",
   "metadata": {},
   "outputs": [],
   "source": [
    "# Get all movie IDs rated by user 1\n",
    "user_rated_items = set(j for (j, _) in trainset.ur[inner_user_id])"
   ]
  },
  {
   "cell_type": "code",
   "execution_count": 9,
   "id": "47f9a847-a763-4bfd-95d1-3b08dc33fc63",
   "metadata": {},
   "outputs": [],
   "source": [
    "# Build anti-testset manually just for user 1\n",
    "user_anti_testset = [\n",
    "    (raw_user_id, trainset.to_raw_iid(i), 0.0)\n",
    "    for i in trainset.all_items()\n",
    "    if i not in user_rated_items\n",
    "]"
   ]
  },
  {
   "cell_type": "code",
   "execution_count": 10,
   "id": "b7672e16-72a6-402c-897a-ef76efea5d5d",
   "metadata": {},
   "outputs": [],
   "source": [
    "# Get predictions only for user 1\n",
    "user_predictions = final_model.test(user_anti_testset)"
   ]
  },
  {
   "cell_type": "code",
   "execution_count": 11,
   "id": "e05f8d1b-d9a1-49cd-84b7-4e1ee829c89b",
   "metadata": {},
   "outputs": [],
   "source": [
    "# Same get_top_n logic, but only for 1 user\n",
    "def get_top_n(predictions, n=10):\n",
    "    top_n = defaultdict(list)\n",
    "    for uid, iid, true_r, est, _ in predictions:\n",
    "        top_n[uid].append((iid, est))\n",
    "    for uid, user_ratings in top_n.items():\n",
    "        user_ratings.sort(key=lambda x: x[1], reverse=True)\n",
    "        top_n[uid] = user_ratings[:n]\n",
    "    return top_n"
   ]
  },
  {
   "cell_type": "code",
   "execution_count": 12,
   "id": "4a00985d-a6c9-4133-a172-cdc56e62fef2",
   "metadata": {},
   "outputs": [],
   "source": [
    "top_n_user1 = get_top_n(user_predictions, n=10)"
   ]
  },
  {
   "cell_type": "code",
   "execution_count": 13,
   "id": "ff06385e-1ae6-49fe-908f-2e70ef51319d",
   "metadata": {},
   "outputs": [],
   "source": [
    "# Load movieId-to-title mapping (assuming you already loaded `movies`)\n",
    "movie_id_to_title = dict(zip(movies['movieId'], movies['title']))"
   ]
  },
  {
   "cell_type": "code",
   "execution_count": 14,
   "id": "bbe221b3-03d6-47c9-83c4-df8f69781152",
   "metadata": {},
   "outputs": [
    {
     "name": "stdout",
     "output_type": "stream",
     "text": [
      "\n",
      "Top 10 movie recommendations for User 1:\n",
      "Frozen Planet (2011) (Predicted Rating: 4.54)\n",
      "Black Mirror (2011) (Predicted Rating: 4.52)\n",
      "The Imitation Game (2014) (Predicted Rating: 4.46)\n",
      "Connections (1978) (Predicted Rating: 4.46)\n",
      "For the Birds (2000) (Predicted Rating: 4.42)\n",
      "Bleak House (2005) (Predicted Rating: 4.42)\n",
      "Personal Journey with Martin Scorsese Through American Movies, A (1995) (Predicted Rating: 4.4)\n",
      "Crucified Lovers, The (Chikamatsu monogatari) (1954) (Predicted Rating: 4.4)\n",
      "Zero Motivation (Efes beyahasei enosh) (2014) (Predicted Rating: 4.38)\n",
      "Hobbit: An Unexpected Journey, The (2012) (Predicted Rating: 4.36)\n"
     ]
    }
   ],
   "source": [
    "# Print recommendations\n",
    "print(f\"\\nTop 10 movie recommendations for User {raw_user_id}:\")\n",
    "for movie_id, score in top_n_user1[raw_user_id]:\n",
    "    title = movie_id_to_title.get(int(movie_id), \"Unknown Movie\")\n",
    "    print(f\"{title} (Predicted Rating: {round(score, 2)})\")"
   ]
  },
  {
   "cell_type": "code",
   "execution_count": 17,
   "id": "8c069f4b-bcfb-4e73-91dd-a1170ecdab83",
   "metadata": {},
   "outputs": [
    {
     "data": {
      "image/png": "[encoded data removed]",
      "text/plain": [
       "<Figure size 1000x600 with 1 Axes>"
      ]
     },
     "metadata": {},
     "output_type": "display_data"
    }
   ],
   "source": [
    "import matplotlib.pyplot as plt\n",
    "\n",
    "# Extract movie titles and predicted ratings for User 1\n",
    "user_1_recs = top_n_user1[raw_user_id]\n",
    "movie_titles = [movie_id_to_title.get(mid, \"Unknown\") for mid, _ in user_1_recs]\n",
    "predicted_scores = [round(score, 2) for _, score in user_1_recs]\n",
    "\n",
    "# Plot\n",
    "plt.figure(figsize=(10, 6))\n",
    "bars = plt.barh(movie_titles, predicted_scores, color='skyblue')\n",
    "plt.xlabel('Predicted Rating')\n",
    "plt.title('Top 10 Movie Recommendations for User 1')\n",
    "plt.gca().invert_yaxis()  # Highest rating on top\n",
    "\n",
    "# Add labels\n",
    "for bar in bars:\n",
    "    width = bar.get_width()\n",
    "    plt.text(width + 0.02, bar.get_y() + bar.get_height()/2,\n",
    "             f'{width:.2f}', va='center')"
   ]
  },
  {
   "cell_type": "markdown",
   "id": "e64f73ce-77e9-4cf7-be72-0773887c0ca6",
   "metadata": {},
   "source": [
    "#### Save Top 10 for First User"
   ]
  },
  {
   "cell_type": "code",
   "execution_count": 19,
   "id": "f0887a6f-e223-40eb-bd9f-e3708fee1688",
   "metadata": {},
   "outputs": [],
   "source": [
    "import csv\n",
    "\n",
    "# Save User 1's top 10 recommendations to CSV\n",
    "with open('top_10_recommendations_user1.csv', mode='w', newline='', encoding='utf-8') as file:\n",
    "    writer = csv.writer(file)\n",
    "    writer.writerow(['userId', 'movieId', 'predicted_rating', 'title'])\n",
    "\n",
    "    user_id = raw_user_id  # or 1, depending on how you defined it earlier\n",
    "    user_ratings = top_n_user1[user_id]\n",
    "\n",
    "    for movie_id, pred_rating in user_ratings:\n",
    "        title = movie_id_to_title.get(int(movie_id), \"Unknown Movie\")\n",
    "        writer.writerow([user_id, movie_id, round(pred_rating, 2), title])"
   ]
  },
  {
   "cell_type": "code",
   "execution_count": null,
   "id": "7c389bef-9d32-4d5c-ab5e-a8d01e83196c",
   "metadata": {},
   "outputs": [],
   "source": []
  },
  {
   "cell_type": "markdown",
   "id": "92d04a55-f4f3-46a2-99e8-3e22739cb981",
   "metadata": {
    "jp-MarkdownHeadingCollapsed": true
   },
   "source": [
    "### Generate Top 10 Movie Recommendations for All users"
   ]
  },
  {
   "cell_type": "code",
   "execution_count": 23,
   "id": "3871ae40-27c7-4692-b4ca-73a4e6b56987",
   "metadata": {},
   "outputs": [
    {
     "ename": "PermissionError",
     "evalue": "[Errno 13] Permission denied",
     "output_type": "error",
     "traceback": [
      "\u001b[1;31m---------------------------------------------------------------------------\u001b[0m",
      "\u001b[1;31mPermissionError\u001b[0m                           Traceback (most recent call last)",
      "Cell \u001b[1;32mIn[23], line 48\u001b[0m\n\u001b[0;32m     47\u001b[0m title \u001b[38;5;241m=\u001b[39m movie_id_to_title\u001b[38;5;241m.\u001b[39mget(\u001b[38;5;28mint\u001b[39m(movie_id), \u001b[38;5;124m\"\u001b[39m\u001b[38;5;124mUnknown\u001b[39m\u001b[38;5;124m\"\u001b[39m)\n\u001b[1;32m---> 48\u001b[0m writer\u001b[38;5;241m.\u001b[39mwriterow([raw_user_id, movie_id, \u001b[38;5;28mround\u001b[39m(rating, \u001b[38;5;241m2\u001b[39m), title])\n",
      "\u001b[1;31mPermissionError\u001b[0m: [Errno 13] Permission denied",
      "\nDuring handling of the above exception, another exception occurred:\n",
      "\u001b[1;31mPermissionError\u001b[0m                           Traceback (most recent call last)",
      "\u001b[1;31mPermissionError\u001b[0m: [Errno 13] Permission denied",
      "\nDuring handling of the above exception, another exception occurred:\n",
      "\u001b[1;31mPermissionError\u001b[0m                           Traceback (most recent call last)",
      "Cell \u001b[1;32mIn[23], line 25\u001b[0m\n\u001b[0;32m     22\u001b[0m all_movie_ids \u001b[38;5;241m=\u001b[39m ratings[\u001b[38;5;124m'\u001b[39m\u001b[38;5;124mmovieId\u001b[39m\u001b[38;5;124m'\u001b[39m]\u001b[38;5;241m.\u001b[39munique()\n\u001b[0;32m     24\u001b[0m \u001b[38;5;66;03m# Save recommendations in a CSV\u001b[39;00m\n\u001b[1;32m---> 25\u001b[0m \u001b[38;5;28;01mwith\u001b[39;00m \u001b[38;5;28mopen\u001b[39m(\u001b[38;5;124m'\u001b[39m\u001b[38;5;124mtop_10_recommendations_all_users.csv\u001b[39m\u001b[38;5;124m'\u001b[39m, mode\u001b[38;5;241m=\u001b[39m\u001b[38;5;124m'\u001b[39m\u001b[38;5;124mw\u001b[39m\u001b[38;5;124m'\u001b[39m, newline\u001b[38;5;241m=\u001b[39m\u001b[38;5;124m'\u001b[39m\u001b[38;5;124m'\u001b[39m, encoding\u001b[38;5;241m=\u001b[39m\u001b[38;5;124m'\u001b[39m\u001b[38;5;124mutf-8\u001b[39m\u001b[38;5;124m'\u001b[39m) \u001b[38;5;28;01mas\u001b[39;00m file:\n\u001b[0;32m     26\u001b[0m     writer \u001b[38;5;241m=\u001b[39m csv\u001b[38;5;241m.\u001b[39mwriter(file)\n\u001b[0;32m     27\u001b[0m     writer\u001b[38;5;241m.\u001b[39mwriterow([\u001b[38;5;124m'\u001b[39m\u001b[38;5;124muserId\u001b[39m\u001b[38;5;124m'\u001b[39m, \u001b[38;5;124m'\u001b[39m\u001b[38;5;124mmovieId\u001b[39m\u001b[38;5;124m'\u001b[39m, \u001b[38;5;124m'\u001b[39m\u001b[38;5;124mpredicted_rating\u001b[39m\u001b[38;5;124m'\u001b[39m, \u001b[38;5;124m'\u001b[39m\u001b[38;5;124mtitle\u001b[39m\u001b[38;5;124m'\u001b[39m])\n",
      "\u001b[1;31mPermissionError\u001b[0m: [Errno 13] Permission denied"
     ]
    }
   ],
   "source": [
    "from surprise import Dataset, Reader\n",
    "from joblib import load\n",
    "import pandas as pd\n",
    "from collections import defaultdict\n",
    "import csv\n",
    "\n",
    "# Load trained model\n",
    "final_model = load('svd_trained_model.joblib')\n",
    "\n",
    "# Load ratings & movies\n",
    "ratings = pd.read_csv('rating.csv')\n",
    "movies = pd.read_csv('movie.csv')\n",
    "movie_id_to_title = dict(zip(movies['movieId'], movies['title']))\n",
    "\n",
    "# Prepare trainset\n",
    "reader = Reader(rating_scale=(0.5, 5.0))\n",
    "data = Dataset.load_from_df(ratings[['userId', 'movieId', 'rating']], reader)\n",
    "trainset = data.build_full_trainset()\n",
    "\n",
    "# Get all unique user and movie IDs\n",
    "all_user_ids = ratings['userId'].unique()\n",
    "all_movie_ids = ratings['movieId'].unique()\n",
    "\n",
    "# Save recommendations in a CSV\n",
    "with open('top_10_recommendations_all_users.csv', mode='w', newline='', encoding='utf-8') as file:\n",
    "    writer = csv.writer(file)\n",
    "    writer.writerow(['userId', 'movieId', 'predicted_rating', 'title'])\n",
    "\n",
    "    for raw_user_id in all_user_ids:\n",
    "        # Movies already rated by the user\n",
    "        rated_movies = set(ratings[ratings['userId'] == raw_user_id]['movieId'])\n",
    "\n",
    "        # Unrated movies for this user\n",
    "        unrated_movies = [mid for mid in all_movie_ids if mid not in rated_movies]\n",
    "\n",
    "        user_predictions = []\n",
    "        for movie_id in unrated_movies:\n",
    "            pred = final_model.predict(str(raw_user_id), str(movie_id))\n",
    "            user_predictions.append((movie_id, pred.est))\n",
    "\n",
    "        # Get top 10 predictions\n",
    "        user_predictions.sort(key=lambda x: x[1], reverse=True)\n",
    "        top_10 = user_predictions[:10]\n",
    "\n",
    "        # Write to CSV\n",
    "        for movie_id, rating in top_10:\n",
    "            title = movie_id_to_title.get(int(movie_id), \"Unknown\")\n",
    "            writer.writerow([raw_user_id, movie_id, round(rating, 2), title])"
   ]
  },
  {
   "cell_type": "code",
   "execution_count": null,
   "id": "0204ae49-d753-4ad9-9863-b1c0015dd725",
   "metadata": {},
   "outputs": [],
   "source": []
  },
  {
   "cell_type": "markdown",
   "id": "ab27f064-410a-4a1a-a7cc-ffef50e5da2c",
   "metadata": {
    "jp-MarkdownHeadingCollapsed": true
   },
   "source": [
    "## Content-Based Filtering"
   ]
  },
  {
   "cell_type": "markdown",
   "id": "0b781bae-a20a-434f-90ef-47430e1f0235",
   "metadata": {},
   "source": [
    "### 1. Prepare movie content\n",
    "We'll use TF-IDF or CountVectorizer on genres (and tags if available):"
   ]
  },
  {
   "cell_type": "code",
   "execution_count": 10,
   "id": "310ce9e4-7aa6-4c83-ae32-8ceb625f54f2",
   "metadata": {},
   "outputs": [],
   "source": [
    "import pandas as pd\n",
    "from sklearn.feature_extraction.text import TfidfVectorizer\n",
    "from sklearn.metrics.pairwise import cosine_similarity\n",
    "\n",
    "# Load the data\n",
    "movies = pd.read_csv('movie.csv')\n",
    "tags = pd.read_csv('tag.csv')\n",
    "\n",
    "# Replace '|' with space in genres\n",
    "movies['processed_genres'] = movies['genres'].str.replace('|', ' ')\n",
    "\n",
    "# Combine tags per movie\n",
    "tags['tag'] = tags['tag'].astype(str)\n",
    "tag_grouped = tags.groupby('movieId')['tag'].apply(lambda x: ' '.join(x)).reset_index()\n",
    "\n",
    "# Merge with movies\n",
    "movies = movies.merge(tag_grouped, on='movieId', how='left')\n",
    "movies['text'] = movies['processed_genres'] + ' ' + movies['tag'].fillna('')"
   ]
  },
  {
   "cell_type": "code",
   "execution_count": 11,
   "id": "dd984f13-6635-481f-8a5f-c1e96fbb16a7",
   "metadata": {},
   "outputs": [],
   "source": [
    "# Vectorize genres\n",
    "tfidf = TfidfVectorizer(stop_words='english')\n",
    "tfidf_matrix = tfidf.fit_transform(movies['text'])"
   ]
  },
  {
   "cell_type": "code",
   "execution_count": 12,
   "id": "b36bbe09-56c3-4d5e-b8c7-f4a6c1846e31",
   "metadata": {},
   "outputs": [],
   "source": [
    "# Compute cosine similarity between movies\n",
    "cosine_sim = cosine_similarity(tfidf_matrix, tfidf_matrix)"
   ]
  },
  {
   "cell_type": "markdown",
   "id": "5b05dbcf-3e63-48ba-9b8c-6b1ead2050d7",
   "metadata": {},
   "source": [
    "### 2. Build movie title → index mapping"
   ]
  },
  {
   "cell_type": "code",
   "execution_count": 13,
   "id": "d6f67f50-8251-442a-9c2f-d3a763501b6b",
   "metadata": {},
   "outputs": [],
   "source": [
    "# Mapping from movie title to index\n",
    "indices = pd.Series(movies.index, index=movies['title'])"
   ]
  },
  {
   "cell_type": "markdown",
   "id": "87daabbf-2219-4f54-88d7-07f6c76f2cc1",
   "metadata": {},
   "source": [
    "### 3. Define recommendation function"
   ]
  },
  {
   "cell_type": "code",
   "execution_count": 14,
   "id": "e72c54e7-0011-4ed6-a8d6-ca8580156904",
   "metadata": {},
   "outputs": [],
   "source": [
    "def content_recommendations(title, n=10):\n",
    "    if title not in indices:\n",
    "        print(\"Title not found.\")\n",
    "        return\n",
    "\n",
    "    idx = indices[title]\n",
    "    sim_scores = list(enumerate(cosine_sim[idx]))\n",
    "    sim_scores = sorted(sim_scores, key=lambda x: x[1], reverse=True)\n",
    "    sim_scores = sim_scores[1:n+1]\n",
    "    movie_indices = [i[0] for i in sim_scores]\n",
    "    return movies[['title', 'genres']].iloc[movie_indices]"
   ]
  },
  {
   "cell_type": "code",
   "execution_count": 15,
   "id": "340a5eda-4067-413a-bbb8-d41e9c8e0999",
   "metadata": {},
   "outputs": [
    {
     "data": {
      "text/html": [
       "<div>\n",
       "<style scoped>\n",
       "    .dataframe tbody tr th:only-of-type {\n",
       "        vertical-align: middle;\n",
       "    }\n",
       "\n",
       "    .dataframe tbody tr th {\n",
       "        vertical-align: top;\n",
       "    }\n",
       "\n",
       "    .dataframe thead th {\n",
       "        text-align: right;\n",
       "    }\n",
       "</style>\n",
       "<table border=\"1\" class=\"dataframe\">\n",
       "  <thead>\n",
       "    <tr style=\"text-align: right;\">\n",
       "      <th></th>\n",
       "      <th>title</th>\n",
       "      <th>genres</th>\n",
       "    </tr>\n",
       "  </thead>\n",
       "  <tbody>\n",
       "    <tr>\n",
       "      <th>3027</th>\n",
       "      <td>Toy Story 2 (1999)</td>\n",
       "      <td>Adventure|Animation|Children|Comedy|Fantasy</td>\n",
       "    </tr>\n",
       "    <tr>\n",
       "      <th>2270</th>\n",
       "      <td>Bug's Life, A (1998)</td>\n",
       "      <td>Adventure|Animation|Children|Comedy</td>\n",
       "    </tr>\n",
       "    <tr>\n",
       "      <th>4790</th>\n",
       "      <td>Monsters, Inc. (2001)</td>\n",
       "      <td>Adventure|Animation|Children|Comedy|Fantasy</td>\n",
       "    </tr>\n",
       "    <tr>\n",
       "      <th>5121</th>\n",
       "      <td>Ice Age (2002)</td>\n",
       "      <td>Adventure|Animation|Children|Comedy</td>\n",
       "    </tr>\n",
       "    <tr>\n",
       "      <th>6271</th>\n",
       "      <td>Finding Nemo (2003)</td>\n",
       "      <td>Adventure|Animation|Children|Comedy</td>\n",
       "    </tr>\n",
       "    <tr>\n",
       "      <th>15401</th>\n",
       "      <td>Toy Story 3 (2010)</td>\n",
       "      <td>Adventure|Animation|Children|Comedy|Fantasy|IMAX</td>\n",
       "    </tr>\n",
       "    <tr>\n",
       "      <th>8278</th>\n",
       "      <td>Incredibles, The (2004)</td>\n",
       "      <td>Action|Adventure|Animation|Children|Comedy</td>\n",
       "    </tr>\n",
       "    <tr>\n",
       "      <th>11614</th>\n",
       "      <td>Ratatouille (2007)</td>\n",
       "      <td>Animation|Children|Drama</td>\n",
       "    </tr>\n",
       "    <tr>\n",
       "      <th>19186</th>\n",
       "      <td>Tin Toy (1988)</td>\n",
       "      <td>Animation|Children</td>\n",
       "    </tr>\n",
       "    <tr>\n",
       "      <th>25462</th>\n",
       "      <td>The Legend of Mor'du (2012)</td>\n",
       "      <td>Animation|Children</td>\n",
       "    </tr>\n",
       "  </tbody>\n",
       "</table>\n",
       "</div>"
      ],
      "text/plain": [
       "                             title  \\\n",
       "3027            Toy Story 2 (1999)   \n",
       "2270          Bug's Life, A (1998)   \n",
       "4790         Monsters, Inc. (2001)   \n",
       "5121                Ice Age (2002)   \n",
       "6271           Finding Nemo (2003)   \n",
       "15401           Toy Story 3 (2010)   \n",
       "8278       Incredibles, The (2004)   \n",
       "11614           Ratatouille (2007)   \n",
       "19186               Tin Toy (1988)   \n",
       "25462  The Legend of Mor'du (2012)   \n",
       "\n",
       "                                                 genres  \n",
       "3027        Adventure|Animation|Children|Comedy|Fantasy  \n",
       "2270                Adventure|Animation|Children|Comedy  \n",
       "4790        Adventure|Animation|Children|Comedy|Fantasy  \n",
       "5121                Adventure|Animation|Children|Comedy  \n",
       "6271                Adventure|Animation|Children|Comedy  \n",
       "15401  Adventure|Animation|Children|Comedy|Fantasy|IMAX  \n",
       "8278         Action|Adventure|Animation|Children|Comedy  \n",
       "11614                          Animation|Children|Drama  \n",
       "19186                                Animation|Children  \n",
       "25462                                Animation|Children  "
      ]
     },
     "execution_count": 15,
     "metadata": {},
     "output_type": "execute_result"
    }
   ],
   "source": [
    "content_recommendations(\"Toy Story (1995)\", n=10)"
   ]
  },
  {
   "cell_type": "code",
   "execution_count": null,
   "id": "9f47a74f-5b0f-4e89-bdcf-c8074731c896",
   "metadata": {},
   "outputs": [],
   "source": []
  }
 ],
 "metadata": {
  "kernelspec": {
   "display_name": "Python 3 (ipykernel)",
   "language": "python",
   "name": "python3"
  },
  "language_info": {
   "codemirror_mode": {
    "name": "ipython",
    "version": 3
   },
   "file_extension": ".py",
   "mimetype": "text/x-python",
   "name": "python",
   "nbconvert_exporter": "python",
   "pygments_lexer": "ipython3",
   "version": "3.12.3"
  }
 },
 "nbformat": 4,
 "nbformat_minor": 5
}
